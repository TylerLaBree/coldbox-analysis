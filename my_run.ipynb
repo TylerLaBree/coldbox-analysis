{
 "cells": [
  {
   "cell_type": "code",
   "execution_count": null,
   "id": "7aca5285-0954-4a92-9ba9-8ba9137a8065",
   "metadata": {},
   "outputs": [],
   "source": [
    "import matplotlib.pyplot as plt\n",
    "import numpy as np\n",
    "import scipy.optimize\n",
    "from analyze import *\n",
    "import dunestyle.matplotlib as dunestyle\n",
    "from read_waveform import data_reader\n",
    "\n",
    "plt.style.use('dune.mplstyle')"
   ]
  },
  {
   "cell_type": "code",
   "execution_count": null,
   "id": "60fa7652-7f3a-4cd9-b603-0edfa2849bd4",
   "metadata": {},
   "outputs": [],
   "source": [
    "waveforms = np.array(\n",
    "    data_reader(\n",
    "        \"data/20240115_SPE_LED365nm/SPE_365nm/run16_C1_LED_20ns_3V30/0_wave0_C1_LED_20ns_3V30.dat\",\n",
    "        10000,\n",
    "        \"all\",\n",
    "    )\n",
    ")"
   ]
  },
  {
   "cell_type": "code",
   "execution_count": null,
   "id": "2b9b28b1-7121-4037-8174-b2ab087b5348",
   "metadata": {},
   "outputs": [],
   "source": [
    "# calculate_waveform_parameters(waveforms)\n",
    "pulse_start = 4100\n",
    "pulse_end = 6000"
   ]
  },
  {
   "cell_type": "markdown",
   "id": "84e9af61-0d92-4fdb-9cb1-dac814b80e99",
   "metadata": {},
   "source": [
    "# Waveforms\n",
    "\n",
    "First, we display average waveform"
   ]
  },
  {
   "cell_type": "code",
   "execution_count": null,
   "id": "c034455a-fa39-424b-ae2f-7d89412d8adf",
   "metadata": {},
   "outputs": [],
   "source": [
    "def plot_min(xs):\n",
    "    range = xs.max() - xs.min()\n",
    "    return xs.min() - range*0.05\n",
    "def plot_max(xs):\n",
    "    range = xs.max() - xs.min()\n",
    "    return xs.max() + range*0.2\n",
    "def set_ylim(xs):\n",
    "    plt.ylim(plot_min(xs), plot_max(xs))"
   ]
  },
  {
   "cell_type": "code",
   "execution_count": null,
   "id": "0e42a327-52e0-49b3-9d44-f10ac66ad4d3",
   "metadata": {},
   "outputs": [],
   "source": [
    "average_waveform = np.mean(waveforms, axis=0)\n",
    "plt.plot(average_waveform)\n",
    "plt.suptitle(\"Average Acquisition\")\n",
    "plt.xlabel(\"Samples [2 ns]\")\n",
    "plt.ylabel(\"Signal [ADC]\")\n",
    "set_ylim(average_waveform)\n",
    "dunestyle.Preliminary()\n",
    "plt.show()"
   ]
  },
  {
   "cell_type": "markdown",
   "id": "d56b824e-5e64-47c3-a89c-a40dc8fab0e9",
   "metadata": {},
   "source": [
    "as well as some typical waveforms,"
   ]
  },
  {
   "cell_type": "markdown",
   "id": "07d3bc63-e4c8-473b-9c2b-c386294d63ca",
   "metadata": {},
   "source": [
    "## Acquisition Viewer"
   ]
  },
  {
   "cell_type": "code",
   "execution_count": null,
   "id": "04ea83fe-2a32-4690-bc9c-1c53a33d75bb",
   "metadata": {
    "jupyter": {
     "source_hidden": true
    }
   },
   "outputs": [],
   "source": [
    "j = 0\n",
    "good_indices = [36, 31, 40, 41, 42]"
   ]
  },
  {
   "cell_type": "code",
   "execution_count": null,
   "id": "8ecdced5-e5bd-4e29-b994-40118da241ba",
   "metadata": {
    "jupyter": {
     "source_hidden": true
    }
   },
   "outputs": [],
   "source": [
    "i = good_indices[j]\n",
    "plt.plot(np.transpose(waveforms[i]))\n",
    "plt.suptitle(\"Acquisition \" + str(i))\n",
    "plt.xlabel(\"Samples [2 ns]\")\n",
    "plt.ylabel(\"Signal [ADC]\")\n",
    "set_ylim(waveforms[i])\n",
    "dunestyle.Preliminary()\n",
    "plt.show()\n",
    "j += 1"
   ]
  },
  {
   "cell_type": "markdown",
   "id": "f17d3cd3-3102-4a6b-af7c-db3664a02f3d",
   "metadata": {},
   "source": [
    "# Baseline\n",
    "\n",
    "Then, look at baseline"
   ]
  },
  {
   "cell_type": "code",
   "execution_count": null,
   "id": "2eaa84fb-4e6f-481e-8266-5168df8bb03c",
   "metadata": {},
   "outputs": [],
   "source": [
    "plt.hist(\n",
    "    waveforms[:, :pulse_start].flatten(),\n",
    "    bins=100,\n",
    "    log=True,\n",
    "    histtype=\"step\",\n",
    "    #range=(2200, 2800)\n",
    ")\n",
    "plt.xlabel(\"Baseline noise [ADC]\")\n",
    "plt.ylabel(\"Samples\")\n",
    "dunestyle.Preliminary()\n",
    "plt.show()"
   ]
  },
  {
   "cell_type": "markdown",
   "id": "dfed5d8e-40a9-452d-b686-d84a9d5c3044",
   "metadata": {},
   "source": [
    "## Baseline Averages"
   ]
  },
  {
   "cell_type": "code",
   "execution_count": null,
   "id": "022483cf-6ad7-4b6b-b25c-4d9db9f0938b",
   "metadata": {},
   "outputs": [],
   "source": [
    "averages = np.mean(waveforms[:, :pulse_start], axis=1)\n",
    "plt.hist(\n",
    "    averages,\n",
    "    bins=150,\n",
    "    log=True,\n",
    "    histtype=\"step\",\n",
    "    range=(2200, 2800)\n",
    "    #range=(2300, 2380)\n",
    ")\n",
    "plt.xlabel(\"Baseline average [ADC]\")\n",
    "plt.ylabel(\"Acquisitions\")\n",
    "plt.show()"
   ]
  },
  {
   "cell_type": "markdown",
   "id": "0a06f4eb-de4d-4667-b233-32f78c2d9bd0",
   "metadata": {},
   "source": [
    "## Baseline Standard Deviation"
   ]
  },
  {
   "cell_type": "code",
   "execution_count": null,
   "id": "59ce9617-1f80-4732-8c24-af7f86e1ff0a",
   "metadata": {},
   "outputs": [],
   "source": [
    "baseline_stds = np.std(waveforms[:, :pulse_start], axis=1)\n",
    "plt.hist(\n",
    "    baseline_stds,\n",
    "    bins=150,\n",
    "    log=True,\n",
    "    histtype=\"step\",\n",
    "    range=(3, 15)\n",
    ")\n",
    "plt.xlabel(\"Baseline standard deviation [ADC]\")\n",
    "plt.ylabel(\"Acquisitions\")\n",
    "plt.axvline(5.5, color=\"#E69F00\", linestyle=\"-.\", label=\"std = 5.5\")\n",
    "plt.axvline(4.5, color=\"#D55E00\", linestyle=\":\", label=\"std = 4.5\")\n",
    "plt.axvline(3.75, color=\"#56B4E9\", linestyle=\"--\", label=\"std = 3.75\")\n",
    "plt.legend()\n",
    "plt.show()"
   ]
  },
  {
   "cell_type": "markdown",
   "id": "c209d2cc-039e-4e84-a614-6e0ea92cbc06",
   "metadata": {},
   "source": [
    "I don't trust these peaks. I think it's likely that the second peak and after are cosmic PE peaks. Identify peak canditates.\n",
    "\n",
    "## Comparison 2D Histogram"
   ]
  },
  {
   "cell_type": "code",
   "execution_count": null,
   "id": "1247d90e-2502-43da-9dab-3861c8fe5415",
   "metadata": {},
   "outputs": [],
   "source": [
    "plt.hist2d(averages, baseline_stds, range=((2200, 2800), (3, 400)), bins=(100, 100), norm=\"log\")\n",
    "plt.xlabel(\"Baseline average [ADC]\")\n",
    "plt.ylabel(\"Baseline std dev [ADC]\")\n",
    "plt.colorbar()\n",
    "dunestyle.Preliminary()\n",
    "plt.show()"
   ]
  },
  {
   "cell_type": "markdown",
   "id": "0d933600-81d3-430a-9c78-e079c15f947b",
   "metadata": {},
   "source": [
    "Then, zooming in,"
   ]
  },
  {
   "cell_type": "code",
   "execution_count": null,
   "id": "45ed8cbb-8f07-4189-8cb5-ad6fd9d07c68",
   "metadata": {},
   "outputs": [],
   "source": [
    "plt.hist2d(averages, baseline_stds, range=((2300, 2380), (3, 15)), bins=(100, 100), norm=\"log\")\n",
    "plt.xlabel(\"Baseline average [ADC]\")\n",
    "plt.ylabel(\"Baseline std dev [ADC]\")\n",
    "plt.axhline(5.5, color=\"#E69F00\", linestyle=\"-.\", label=\"std = 5.5\")\n",
    "plt.axhline(4.5, color=\"#D55E00\", linestyle=\":\", label=\"std = 4.5\")\n",
    "plt.axhline(3.75, color=\"#56B4E9\", linestyle=\"--\", label=\"std = 3.75\")\n",
    "plt.legend()\n",
    "plt.colorbar()\n",
    "dunestyle.Preliminary()\n",
    "plt.show()"
   ]
  },
  {
   "cell_type": "markdown",
   "id": "e3f55706-b858-4448-a131-a2d924627370",
   "metadata": {},
   "source": [
    "Let's see what making these cuts does to my average acquisition."
   ]
  },
  {
   "cell_type": "markdown",
   "id": "416e0534-ac15-474a-b51d-cdd09ccb46e1",
   "metadata": {},
   "source": [
    "## Validating Cuts to Baseline"
   ]
  },
  {
   "cell_type": "code",
   "execution_count": null,
   "id": "c4ea0b07-4e25-4719-8fde-dc0cb6428e3b",
   "metadata": {},
   "outputs": [],
   "source": [
    "plt.plot(np.mean(waveforms, axis=0), color=\"black\", label=\"no cut\")\n",
    "plt.plot(np.mean(waveforms[baseline_stds < 5.5], axis=0), color=\"#E69F00\", label=\"std < 5.5\")\n",
    "plt.plot(np.mean(waveforms[baseline_stds < 4.5], axis=0), color=\"#D55E00\", label=\"std < 4.5\")\n",
    "plt.plot(np.mean(waveforms[baseline_stds < 3.75], axis=0), color=\"#56B4E9\", label=\"std < 3.75\")\n",
    "plt.suptitle(\"Average Acquisition With Cut to Baseline Region\")\n",
    "plt.xlabel(\"Samples [2 ns]\")\n",
    "plt.ylabel(\"Signal [ADC]\")\n",
    "plt.legend()\n",
    "dunestyle.Preliminary()\n",
    "plt.show()"
   ]
  },
  {
   "cell_type": "markdown",
   "id": "7ba1f854-866f-423d-8835-62b9185e8de1",
   "metadata": {},
   "source": [
    "I'm not sure which cut we should make. Let's see what some of these events look like in between the cuts."
   ]
  },
  {
   "cell_type": "markdown",
   "id": "0c14da85-7761-41de-a51d-976ab92eece8",
   "metadata": {},
   "source": [
    "## Acquisition Viewer"
   ]
  },
  {
   "cell_type": "code",
   "execution_count": null,
   "id": "b5f7e0f7-57cf-4626-b812-8947df5b2c3f",
   "metadata": {
    "jupyter": {
     "source_hidden": true
    }
   },
   "outputs": [],
   "source": [
    "test = waveforms[np.logical_and(3.75 <= baseline_stds, baseline_stds < 4.5)]\n",
    "i = 9"
   ]
  },
  {
   "cell_type": "code",
   "execution_count": null,
   "id": "5d94fe40-b8fc-4d74-97b4-b73c08391dcf",
   "metadata": {
    "jupyter": {
     "source_hidden": true
    }
   },
   "outputs": [],
   "source": [
    "plt.plot(np.transpose(test[i,:pulse_start]))\n",
    "plt.suptitle(\"Acquisition \" + str(i))\n",
    "plt.xlabel(\"Samples [2 ns]\")\n",
    "plt.ylabel(\"Signal [ADC]\")\n",
    "set_ylim(test[i,:pulse_start])\n",
    "dunestyle.Preliminary()\n",
    "plt.show()\n",
    "i += 1"
   ]
  },
  {
   "cell_type": "markdown",
   "id": "f5f66959-c2f1-454b-b6e6-0dd2ce506a86",
   "metadata": {},
   "source": [
    "Looking at about 20 of these acquisitions, it looks like all events whose baselines have a std between 3.75 and 4.5 contain cosmic peaks. This is good evidence to make the strictest cut, **std < 3.75**."
   ]
  },
  {
   "cell_type": "markdown",
   "id": "9a2fa4e9-6a67-4f65-88c8-12be3b387d41",
   "metadata": {},
   "source": [
    "# Far Tail Region\n",
    "\n",
    "This is the region from 8,000 to 10,000 samples.\n",
    "\n",
    "Let's do the same thing for this region. But we can probably skip the average this time."
   ]
  },
  {
   "cell_type": "code",
   "execution_count": null,
   "id": "c7a5d752-0fe2-4ae7-b3c0-c3a9490ff880",
   "metadata": {},
   "outputs": [],
   "source": [
    "tail_stds = np.std(waveforms[:, 8000:], axis=1)\n",
    "plt.hist(\n",
    "    tail_stds,\n",
    "    bins=150,\n",
    "    log=True,\n",
    "    histtype=\"step\",\n",
    "    range=(3, 15)\n",
    ")\n",
    "plt.xlabel(\"Tail standard deviation [ADC]\")\n",
    "plt.ylabel(\"Acquisitions\")\n",
    "plt.axvline(6.1, color=\"#E69F00\", linestyle=\"-.\", label=\"std = 6.1\")\n",
    "plt.axvline(4.8, color=\"#D55E00\", linestyle=\":\", label=\"std = 4.8\")\n",
    "plt.axvline(3.85, color=\"#56B4E9\", linestyle=\"--\", label=\"std = 3.85\")\n",
    "plt.legend()\n",
    "dunestyle.Preliminary()\n",
    "plt.show()"
   ]
  },
  {
   "cell_type": "markdown",
   "id": "d68c32ee-585f-42f9-89a0-530efaf3bcda",
   "metadata": {},
   "source": [
    "Nearly the same cuts seem appropriate here. Let's see what these do to my average waveform."
   ]
  },
  {
   "cell_type": "code",
   "execution_count": null,
   "id": "cb6b52a1-670f-406f-a3e4-c41fd19382a9",
   "metadata": {},
   "outputs": [],
   "source": [
    "plt.plot(np.mean(waveforms, axis=0), color=\"black\", label=\"no cut\")\n",
    "plt.plot(np.mean(waveforms[tail_stds < 6.1], axis=0), color=\"#E69F00\", label=\"std < 6.1\")\n",
    "plt.plot(np.mean(waveforms[tail_stds < 4.8], axis=0), color=\"#D55E00\", label=\"std < 4.8\")\n",
    "plt.plot(np.mean(waveforms[tail_stds < 3.85], axis=0), color=\"#56B4E9\", label=\"std < 3.85\")\n",
    "plt.suptitle(\"Average Acquisition With Cut to Tail Region\")\n",
    "plt.xlabel(\"Samples [2 ns]\")\n",
    "plt.ylabel(\"Signal [ADC]\")\n",
    "plt.legend()\n",
    "dunestyle.Preliminary()\n",
    "plt.show()"
   ]
  },
  {
   "cell_type": "markdown",
   "id": "76e36e46-f58c-4b8f-a8ab-14c820cf93da",
   "metadata": {},
   "source": [
    "## Acquisition Viewer"
   ]
  },
  {
   "cell_type": "code",
   "execution_count": null,
   "id": "bdee0f2b-4f4d-40e7-a3b3-04674e9a1948",
   "metadata": {
    "jupyter": {
     "source_hidden": true
    }
   },
   "outputs": [],
   "source": [
    "#test = waveforms[np.logical_and(3.85 <= tail_stds, tail_stds < 4.8)]\n",
    "test = waveforms[tail_stds < 3.85]\n",
    "i = 0 #32"
   ]
  },
  {
   "cell_type": "code",
   "execution_count": null,
   "id": "3aec3aaa-a1a3-4d39-b08e-a60fb711b8ef",
   "metadata": {
    "jupyter": {
     "source_hidden": true
    }
   },
   "outputs": [],
   "source": [
    "plt.plot(np.transpose(test[i,pulse_start:]))\n",
    "plt.suptitle(\"Acquisition \" + str(i))\n",
    "plt.xlabel(\"Samples [2 ns]\")\n",
    "plt.ylabel(\"Signal [ADC]\")\n",
    "set_ylim(test[i,pulse_start:])\n",
    "dunestyle.Preliminary()\n",
    "plt.show()\n",
    "i += 1"
   ]
  },
  {
   "cell_type": "markdown",
   "id": "df2056d7-4495-4618-a2fa-fd1ac6cc626f",
   "metadata": {},
   "source": [
    "Looking at these events shows that I should do the strictest cut, **std < 3.85**."
   ]
  },
  {
   "cell_type": "markdown",
   "id": "36446310-e71b-4b96-b207-ea25f626810e",
   "metadata": {},
   "source": [
    "# Near Tail Region\n",
    "\n",
    "This is the region from 6,000 to 8,000 samples."
   ]
  },
  {
   "cell_type": "code",
   "execution_count": null,
   "id": "935247b5-5b3b-4751-bde4-f3a21a45580f",
   "metadata": {},
   "outputs": [],
   "source": [
    "decline_stds = np.std(waveforms[:, pulse_end:8000], axis=1)\n",
    "plt.hist(\n",
    "    decline_stds,\n",
    "    bins=150,\n",
    "    log=True,\n",
    "    histtype=\"step\",\n",
    "    range=(3, 15)\n",
    ")\n",
    "plt.xlabel(\"Baseline standard deviation [ADC]\")\n",
    "plt.ylabel(\"Acquisitions\")\n",
    "plt.axvline(6.3, color=\"#E69F00\", linestyle=\"-.\", label=\"std = 6.3\")\n",
    "plt.axvline(4.9, color=\"#D55E00\", linestyle=\":\", label=\"std = 4.9\")\n",
    "plt.axvline(3.9, color=\"#56B4E9\", linestyle=\"--\", label=\"std = 3.9\")\n",
    "plt.legend()\n",
    "dunestyle.Preliminary()\n",
    "plt.show()"
   ]
  },
  {
   "cell_type": "markdown",
   "id": "28ee04b3-1e8c-4cca-9ebd-612f627acd35",
   "metadata": {},
   "source": [
    "Let's see what these cuts do to my average waveform"
   ]
  },
  {
   "cell_type": "code",
   "execution_count": null,
   "id": "afa6fe00-1f18-41b8-a87d-a2000aa8b492",
   "metadata": {},
   "outputs": [],
   "source": [
    "plt.plot(np.mean(waveforms, axis=0), color=\"black\", label=\"no cut\")\n",
    "plt.plot(np.mean(waveforms[decline_stds < 6.3], axis=0), color=\"#E69F00\", label=\"std < 6.3\")\n",
    "plt.plot(np.mean(waveforms[decline_stds < 4.9], axis=0), color=\"#D55E00\", label=\"std < 4.9\")\n",
    "plt.plot(np.mean(waveforms[decline_stds < 3.9], axis=0), color=\"#56B4E9\", label=\"std < 3.9\")\n",
    "plt.suptitle(\"Average Acquisition With Cut to Decline Region\")\n",
    "plt.xlabel(\"Samples [2 ns]\")\n",
    "plt.ylabel(\"Signal [ADC]\")\n",
    "plt.legend()\n",
    "dunestyle.Preliminary()\n",
    "plt.show()"
   ]
  },
  {
   "cell_type": "markdown",
   "id": "f69fde14-39c4-45bb-8e7d-5a3f1e2891d9",
   "metadata": {},
   "source": [
    "## Acquisition Viewer"
   ]
  },
  {
   "cell_type": "code",
   "execution_count": null,
   "id": "efe3c03a-7399-40de-8ade-509b998c8ef7",
   "metadata": {
    "jupyter": {
     "source_hidden": true
    }
   },
   "outputs": [],
   "source": [
    "test = waveforms[np.logical_and(4.9 <= tail_stds, tail_stds < 6.3)]\n",
    "#test = waveforms[decline_stds < 3.85]\n",
    "i = 6 #32"
   ]
  },
  {
   "cell_type": "code",
   "execution_count": null,
   "id": "d5090423-ca76-40fe-900c-9ea49fd1d6c5",
   "metadata": {
    "jupyter": {
     "source_hidden": true
    }
   },
   "outputs": [],
   "source": [
    "plt.plot(np.transpose(test[i,pulse_start:]))\n",
    "plt.suptitle(\"Acquisition \" + str(i))\n",
    "plt.xlabel(\"Samples [2 ns]\")\n",
    "plt.ylabel(\"Signal [ADC]\")\n",
    "set_ylim(test[i,pulse_start:])\n",
    "dunestyle.Preliminary()\n",
    "plt.show()\n",
    "i += 1"
   ]
  },
  {
   "cell_type": "markdown",
   "id": "7a8bec74-d257-4b89-9c3b-022b8f5e1fce",
   "metadata": {},
   "source": [
    "Looking at events such as the 6th one after the cut `np.logical_and(3.9 <= tail_stds, tail_stds < 4.9)`, 3.9 is likely too stringent a cut. I won't do a cut here unless I actually fit each peak, and cut based on $\\chi^2$."
   ]
  },
  {
   "cell_type": "markdown",
   "id": "d1d7b02d-bcd3-4b31-aeef-07ba1fd564b6",
   "metadata": {},
   "source": [
    "# Putting it All Together"
   ]
  },
  {
   "cell_type": "code",
   "execution_count": null,
   "id": "c1bae306-da86-4a78-b645-d53427b0ccef",
   "metadata": {},
   "outputs": [],
   "source": [
    "plt.plot(np.mean(waveforms, axis=0), color=\"black\", label=\"no cut\")\n",
    "# plt.plot(np.mean(waveforms[(decline_stds < 3.9) & (tail_stds < 3.9) & (baseline_stds < 3.85)], axis=0), color=\"#56B4E9\", label=\"cut\")\n",
    "# plt.plot(np.mean(waveforms[(decline_stds < 4.9) & (tail_stds < 3.9) & (baseline_stds < 3.85)], axis=0), color=\"#D55E00\", label=\"cut\")\n",
    "plt.plot(np.mean(waveforms[(tail_stds < 3.9) & (baseline_stds < 3.85)], axis=0), color=\"gray\", label=\"with cut\")\n",
    "plt.suptitle(\"Average Acquisition With Final Cut\")\n",
    "plt.xlabel(\"Samples [2 ns]\")\n",
    "plt.ylabel(\"Signal [ADC]\")\n",
    "plt.legend()\n",
    "dunestyle.Preliminary()\n",
    "plt.show()"
   ]
  },
  {
   "cell_type": "markdown",
   "id": "9fb487b7-ffd6-483e-a4a5-ef07e0c085ef",
   "metadata": {},
   "source": [
    "## Acquisition Viewer\n",
    "\n",
    "Now, let's look at some acquisitions from this cut data."
   ]
  },
  {
   "cell_type": "code",
   "execution_count": null,
   "id": "433d2a4a-9028-4681-ac3d-51eec4dcdcf2",
   "metadata": {
    "jupyter": {
     "source_hidden": true
    }
   },
   "outputs": [],
   "source": [
    "i = 0\n",
    "acquisitions_cut = waveforms[(tail_stds < 3.9) & (baseline_stds < 3.85)]"
   ]
  },
  {
   "cell_type": "code",
   "execution_count": null,
   "id": "99f0aaf6-445b-43b2-9113-8bfd26f6e602",
   "metadata": {
    "jupyter": {
     "source_hidden": true
    }
   },
   "outputs": [],
   "source": [
    "plt.plot(np.transpose(acquisitions_cut[i]))\n",
    "plt.suptitle(\"Acquisition \" + str(i))\n",
    "plt.xlabel(\"Samples [2 ns]\")\n",
    "plt.ylabel(\"Signal [ADC]\")\n",
    "set_ylim(acquisitions_cut[i])\n",
    "dunestyle.Preliminary()\n",
    "plt.show()\n",
    "i+= 1"
   ]
  },
  {
   "cell_type": "markdown",
   "id": "0d98dd58-a253-4964-b8d0-3c2f959db562",
   "metadata": {},
   "source": [
    "## Finally, Multipeak Fit?"
   ]
  },
  {
   "cell_type": "code",
   "execution_count": null,
   "id": "7cf4dc9f-620d-47aa-b3cb-9861fd25731f",
   "metadata": {},
   "outputs": [],
   "source": [
    "acquisitions_cut = waveforms[(tail_stds < 4.8) & (baseline_stds < 4.5)]\n",
    "baseline_subtracted = acquisitions_cut - np.mean(acquisitions_cut[:, :pulse_start], axis=1)[:, np.newaxis]\n",
    "pulses = baseline_subtracted[:,pulse_start:pulse_end]\n",
    "charges = np.sum(pulses, axis=1)"
   ]
  },
  {
   "cell_type": "code",
   "execution_count": null,
   "id": "114b75d5-fc6b-4927-8202-c5f3b2954ce4",
   "metadata": {},
   "outputs": [],
   "source": [
    "plt.hist(\n",
    "    charges,\n",
    "    bins=200,\n",
    "    log=True,\n",
    "    histtype=\"step\",\n",
    "    range=(-2000, 30000)\n",
    ")\n",
    "plt.xlabel(\"Charge (Integral of pulse) [2 ADC ns]\")\n",
    "plt.ylabel(\"Acquisitions\")\n",
    "dunestyle.Preliminary()\n",
    "plt.show()"
   ]
  },
  {
   "cell_type": "code",
   "execution_count": null,
   "id": "e96ef54c-01c8-4ad9-b67b-cbbdd2411396",
   "metadata": {},
   "outputs": [],
   "source": []
  }
 ],
 "metadata": {
  "kernelspec": {
   "display_name": "Python 3 (ipykernel)",
   "language": "python",
   "name": "python3"
  },
  "language_info": {
   "codemirror_mode": {
    "name": "ipython",
    "version": 3
   },
   "file_extension": ".py",
   "mimetype": "text/x-python",
   "name": "python",
   "nbconvert_exporter": "python",
   "pygments_lexer": "ipython3",
   "version": "3.12.2"
  }
 },
 "nbformat": 4,
 "nbformat_minor": 5
}
